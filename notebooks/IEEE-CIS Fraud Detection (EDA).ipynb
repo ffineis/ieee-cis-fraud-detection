{
 "cells": [
  {
   "cell_type": "markdown",
   "metadata": {},
   "source": [
    "# IEEE-CIS Fraud Detection Kaggle Competition (EDA)\n",
    "\n",
    "We're exploring the IEEE-CIS Fraud Detection Kaggle competition dataset. The goal is simple - to be able to discern between fraudlent/non-fraudulent online transactions, i.e. the `isFraud` field. We have separate training and test datasets, and each class of dataset is further broken down into `transactions` (our primary type of data) and `identity` (identifying attributes of online sessions). `identity` data is auxiliary to `transactions`, meaning that not every transaction has an `identity` record in both the training and test datasets.\n",
    "\n",
    "In the code below, we will explore the training data to get a feel for things like\n",
    "- How often do fraudulent transactions occur? This will help inform our choice of binary loss function during our model selection phase.\n",
    "- Which features have the highest level of missingness?\n",
    "- Roughly how many features can we regard as \"important?\" Are many just pure noise?\n",
    "- Does the existence of an identity record correlate with `isFraud`?\n",
    "- How often do identity records exist? Will we need two separate models, one for transactions with identity records and one without?"
   ]
  },
  {
   "cell_type": "code",
   "execution_count": 99,
   "metadata": {},
   "outputs": [],
   "source": [
    "import pandas as pd\n",
    "import numpy as np\n",
    "import os\n",
    "import matplotlib.pyplot as plt\n",
    "import re\n",
    "from copy import deepcopy\n",
    "from sklearn.base import BaseEstimator, TransformerMixin\n",
    "from sklearn.compose import ColumnTransformer\n",
    "from sklearn.decomposition import TruncatedSVD\n",
    "from sklearn.exceptions import NotFittedError\n",
    "from sklearn.preprocessing import OneHotEncoder, OrdinalEncoder, StandardScaler\n",
    "from sklearn.ensemble import ExtraTreesClassifier\n",
    "from sklearn.feature_selection import chi2, f_classif, SelectKBest\n",
    "from sklearn.kernel_approximation import RBFSampler\n",
    "from sklearn.impute import MissingIndicator, SimpleImputer\n",
    "from sklearn.model_selection import train_test_split, GridSearchCV\n",
    "from sklearn.svm import LinearSVC\n",
    "from sklearn.linear_model import LogisticRegression\n",
    "from sklearn.pipeline import make_pipeline, Pipeline, FeatureUnion\n",
    "from scipy.sparse import issparse\n",
    "import seaborn as sns\n",
    "sns.set(style='dark')\n",
    "\n",
    "%matplotlib inline\n",
    "\n",
    "# -- encode paths to training data files.\n",
    "# ID_TRAIN_FILE = os.path.join('..', 'data', 'train', 'train_identity.csv')\n",
    "TR_TRAIN_FILE = os.path.join('..', 'data', 'train', 'train_transaction.csv')"
   ]
  },
  {
   "cell_type": "code",
   "execution_count": 9,
   "metadata": {},
   "outputs": [
    {
     "name": "stdout",
     "output_type": "stream",
     "text": [
      "transaction training data shape: (590540, 394)\n",
      "20663/590540 transactions have fraud\n"
     ]
    }
   ],
   "source": [
    "# -- load data\n",
    "# id_df = pd.read_csv(ID_TRAIN_FILE)\n",
    "tr_df = pd.read_csv(TR_TRAIN_FILE)\n",
    "\n",
    "# print('identity training data shape: {0}'.format(id_df.shape))\n",
    "print('transaction training data shape: {0}'.format(tr_df.shape))\n",
    "\n",
    "# -- Find rate of identity records that have transactions.\n",
    "# -- Only 3.5% of transactions are fraudulent.\n",
    "# int_rate = np.intersect1d(id_df['TransactionID'].values, tr_df['TransactionID']).shape[0] / id_df.shape[0]\n",
    "# print('{:10.2f}% of identity records exist in transactions'.format(100 * int_rate))\n",
    "# print('{:10.2f}% of transaction records have identity records'.format(100 * id_df.shape[0] / tr_df.shape[0]))\n",
    "print('{0}/{1} transactions have fraud'.format(tr_df.isFraud.sum(), tr_df.shape[0]))"
   ]
  },
  {
   "cell_type": "code",
   "execution_count": 10,
   "metadata": {},
   "outputs": [
    {
     "data": {
      "text/html": [
       "<div>\n",
       "<style scoped>\n",
       "    .dataframe tbody tr th:only-of-type {\n",
       "        vertical-align: middle;\n",
       "    }\n",
       "\n",
       "    .dataframe tbody tr th {\n",
       "        vertical-align: top;\n",
       "    }\n",
       "\n",
       "    .dataframe thead th {\n",
       "        text-align: right;\n",
       "    }\n",
       "</style>\n",
       "<table border=\"1\" class=\"dataframe\">\n",
       "  <thead>\n",
       "    <tr style=\"text-align: right;\">\n",
       "      <th></th>\n",
       "      <th>TransactionID</th>\n",
       "      <th>isFraud</th>\n",
       "      <th>TransactionDT</th>\n",
       "      <th>TransactionAmt</th>\n",
       "      <th>ProductCD</th>\n",
       "      <th>card1</th>\n",
       "      <th>card2</th>\n",
       "      <th>card3</th>\n",
       "      <th>card4</th>\n",
       "      <th>card5</th>\n",
       "      <th>...</th>\n",
       "      <th>V330</th>\n",
       "      <th>V331</th>\n",
       "      <th>V332</th>\n",
       "      <th>V333</th>\n",
       "      <th>V334</th>\n",
       "      <th>V335</th>\n",
       "      <th>V336</th>\n",
       "      <th>V337</th>\n",
       "      <th>V338</th>\n",
       "      <th>V339</th>\n",
       "    </tr>\n",
       "  </thead>\n",
       "  <tbody>\n",
       "    <tr>\n",
       "      <th>0</th>\n",
       "      <td>2987000</td>\n",
       "      <td>0</td>\n",
       "      <td>86400</td>\n",
       "      <td>68.5</td>\n",
       "      <td>W</td>\n",
       "      <td>13926</td>\n",
       "      <td>NaN</td>\n",
       "      <td>150.0</td>\n",
       "      <td>discover</td>\n",
       "      <td>142.0</td>\n",
       "      <td>...</td>\n",
       "      <td>NaN</td>\n",
       "      <td>NaN</td>\n",
       "      <td>NaN</td>\n",
       "      <td>NaN</td>\n",
       "      <td>NaN</td>\n",
       "      <td>NaN</td>\n",
       "      <td>NaN</td>\n",
       "      <td>NaN</td>\n",
       "      <td>NaN</td>\n",
       "      <td>NaN</td>\n",
       "    </tr>\n",
       "    <tr>\n",
       "      <th>1</th>\n",
       "      <td>2987001</td>\n",
       "      <td>0</td>\n",
       "      <td>86401</td>\n",
       "      <td>29.0</td>\n",
       "      <td>W</td>\n",
       "      <td>2755</td>\n",
       "      <td>404.0</td>\n",
       "      <td>150.0</td>\n",
       "      <td>mastercard</td>\n",
       "      <td>102.0</td>\n",
       "      <td>...</td>\n",
       "      <td>NaN</td>\n",
       "      <td>NaN</td>\n",
       "      <td>NaN</td>\n",
       "      <td>NaN</td>\n",
       "      <td>NaN</td>\n",
       "      <td>NaN</td>\n",
       "      <td>NaN</td>\n",
       "      <td>NaN</td>\n",
       "      <td>NaN</td>\n",
       "      <td>NaN</td>\n",
       "    </tr>\n",
       "    <tr>\n",
       "      <th>2</th>\n",
       "      <td>2987002</td>\n",
       "      <td>0</td>\n",
       "      <td>86469</td>\n",
       "      <td>59.0</td>\n",
       "      <td>W</td>\n",
       "      <td>4663</td>\n",
       "      <td>490.0</td>\n",
       "      <td>150.0</td>\n",
       "      <td>visa</td>\n",
       "      <td>166.0</td>\n",
       "      <td>...</td>\n",
       "      <td>NaN</td>\n",
       "      <td>NaN</td>\n",
       "      <td>NaN</td>\n",
       "      <td>NaN</td>\n",
       "      <td>NaN</td>\n",
       "      <td>NaN</td>\n",
       "      <td>NaN</td>\n",
       "      <td>NaN</td>\n",
       "      <td>NaN</td>\n",
       "      <td>NaN</td>\n",
       "    </tr>\n",
       "    <tr>\n",
       "      <th>3</th>\n",
       "      <td>2987003</td>\n",
       "      <td>0</td>\n",
       "      <td>86499</td>\n",
       "      <td>50.0</td>\n",
       "      <td>W</td>\n",
       "      <td>18132</td>\n",
       "      <td>567.0</td>\n",
       "      <td>150.0</td>\n",
       "      <td>mastercard</td>\n",
       "      <td>117.0</td>\n",
       "      <td>...</td>\n",
       "      <td>NaN</td>\n",
       "      <td>NaN</td>\n",
       "      <td>NaN</td>\n",
       "      <td>NaN</td>\n",
       "      <td>NaN</td>\n",
       "      <td>NaN</td>\n",
       "      <td>NaN</td>\n",
       "      <td>NaN</td>\n",
       "      <td>NaN</td>\n",
       "      <td>NaN</td>\n",
       "    </tr>\n",
       "    <tr>\n",
       "      <th>4</th>\n",
       "      <td>2987004</td>\n",
       "      <td>0</td>\n",
       "      <td>86506</td>\n",
       "      <td>50.0</td>\n",
       "      <td>H</td>\n",
       "      <td>4497</td>\n",
       "      <td>514.0</td>\n",
       "      <td>150.0</td>\n",
       "      <td>mastercard</td>\n",
       "      <td>102.0</td>\n",
       "      <td>...</td>\n",
       "      <td>0.0</td>\n",
       "      <td>0.0</td>\n",
       "      <td>0.0</td>\n",
       "      <td>0.0</td>\n",
       "      <td>0.0</td>\n",
       "      <td>0.0</td>\n",
       "      <td>0.0</td>\n",
       "      <td>0.0</td>\n",
       "      <td>0.0</td>\n",
       "      <td>0.0</td>\n",
       "    </tr>\n",
       "  </tbody>\n",
       "</table>\n",
       "<p>5 rows × 394 columns</p>\n",
       "</div>"
      ],
      "text/plain": [
       "   TransactionID  isFraud  TransactionDT  TransactionAmt ProductCD  card1  \\\n",
       "0        2987000        0          86400            68.5         W  13926   \n",
       "1        2987001        0          86401            29.0         W   2755   \n",
       "2        2987002        0          86469            59.0         W   4663   \n",
       "3        2987003        0          86499            50.0         W  18132   \n",
       "4        2987004        0          86506            50.0         H   4497   \n",
       "\n",
       "   card2  card3       card4  card5  ...  V330  V331  V332  V333  V334 V335  \\\n",
       "0    NaN  150.0    discover  142.0  ...   NaN   NaN   NaN   NaN   NaN  NaN   \n",
       "1  404.0  150.0  mastercard  102.0  ...   NaN   NaN   NaN   NaN   NaN  NaN   \n",
       "2  490.0  150.0        visa  166.0  ...   NaN   NaN   NaN   NaN   NaN  NaN   \n",
       "3  567.0  150.0  mastercard  117.0  ...   NaN   NaN   NaN   NaN   NaN  NaN   \n",
       "4  514.0  150.0  mastercard  102.0  ...   0.0   0.0   0.0   0.0   0.0  0.0   \n",
       "\n",
       "  V336  V337  V338  V339  \n",
       "0  NaN   NaN   NaN   NaN  \n",
       "1  NaN   NaN   NaN   NaN  \n",
       "2  NaN   NaN   NaN   NaN  \n",
       "3  NaN   NaN   NaN   NaN  \n",
       "4  0.0   0.0   0.0   0.0  \n",
       "\n",
       "[5 rows x 394 columns]"
      ]
     },
     "execution_count": 10,
     "metadata": {},
     "output_type": "execute_result"
    }
   ],
   "source": [
    "# -- display transactions data head\n",
    "tr_df.head()"
   ]
  },
  {
   "cell_type": "markdown",
   "metadata": {},
   "source": [
    "## Step 1: Identifying numeric and categorical fields"
   ]
  },
  {
   "cell_type": "code",
   "execution_count": 12,
   "metadata": {},
   "outputs": [],
   "source": [
    "# -- define target variable\n",
    "target = 'isFraud'\n",
    "\n",
    "# -- separate numeric from string categorical features (will help us later on).\n",
    "tr_cat_str_features = ['ProductCD', 'P_emaildomain', 'R_emaildomain', 'card4', 'card6'] + ['M' + str(i) for i in range(1, 10)]\n",
    "tr_cat_num_features = ['addr1', 'addr2', 'card1', 'card2', 'card3', 'card5']\n",
    "tr_cat_features = tr_cat_str_features + tr_cat_num_features\n",
    "    \n",
    "tr_num_features = list(set(tr_df.columns.tolist()) - set(tr_cat_features))\n",
    "\n",
    "# id_cat_features = ['DeviceType', 'DeviceInfo'] + [col for col in id_df.columns if 'id_' in col]\n",
    "# id_num_features = list(set(id_df.columns.tolist()) - set(id_cat_features))\n",
    "\n",
    "# -- TransactionID is basically a primary key\n",
    "for feature in ['TransactionID', target]:\n",
    "    \n",
    "    if feature in tr_num_features:\n",
    "        tr_num_features.remove(feature)\n",
    "        \n",
    "#     if feature in id_num_features:\n",
    "#         id_num_features.remove(feature)"
   ]
  },
  {
   "cell_type": "markdown",
   "metadata": {},
   "source": [
    "## Handling missingness\n",
    "\n",
    "There are no hard and fast rules for handling missing data. Just because one column is missing 98% of the time, what if it were the case that all of the non-missing data in that column corresponded to $Y = 1$?\n",
    "\n",
    "There is often an engineering case for excluding often-missing data though - from a software perspective, it is often hard to work with \"missingness.\" For example, a missing value can arrive into a database *explicitly* through a NULL or 0.0 value, or *implicitly* through the sheer absence of an XML attribute. What also happens a lot is that the only nonmissing data in a highly-missing column came from a one-off data dump that is likely to never occur again, e.g. in the case of a special release of a limited edition product, only 2-3% of the overall data points will ever have populated data corresponding to the features of the limited edition release.\n",
    "\n",
    "For these reasons, let's take the following approach for handling missing data:\n",
    "\n",
    "1. For fields missing > 50% of their values, append binary missing/non-missing indicator values.\n",
    "1. Impute missing categorical feature values using the string 'NA'.\n",
    "2. Impute missing numeric feature values using the feature medians."
   ]
  },
  {
   "cell_type": "code",
   "execution_count": 13,
   "metadata": {},
   "outputs": [
    {
     "data": {
      "image/png": "[encoded data removed]",
      "text/plain": [
       "<matplotlib.figure.Figure at 0x125e1eb00>"
      ]
     },
     "metadata": {
      "needs_background": "light"
     },
     "output_type": "display_data"
    }
   ],
   "source": [
    "def rank_missingness(dat, top_n=None, figsize=None):\n",
    "    \"\"\"\n",
    "    Rank the columns of a DataFrame by their rate of missingness. Also provide\n",
    "    barchart of missingness levels.\n",
    "    \n",
    "    :param dat: pd.DataFrame\n",
    "    :param top_n: int display the top-n columns in dat with the highest rate of missing values\n",
    "    :param figsize: list or tuple of length 2, w x h of resulting plot.\n",
    "    \"\"\"\n",
    "    missing_dat = 100 * dat.isnull().sum(axis=0) / dat.shape[0]\n",
    "    missing_dat.sort_values(ascending=False\n",
    "                            , inplace=True)\n",
    "    \n",
    "    if isinstance(top_n, int):\n",
    "        top_n = min(top_n, missing_dat.shape[0])\n",
    "        missing_dat = missing_dat[0:top_n]\n",
    "\n",
    "    p = missing_dat.plot(kind = 'barh', figsize=[6.4, 4.8] if figsize else figsize)\n",
    "    p.set_xlabel('Missingness %')\n",
    "    \n",
    "    return missing_dat\n",
    "\n",
    "\n",
    "# -- plot missingness among categorical features\n",
    "tr_cat_missing_dat = rank_missingness(tr_df[tr_cat_features], figsize=[10, 6])"
   ]
  },
  {
   "cell_type": "code",
   "execution_count": 14,
   "metadata": {},
   "outputs": [
    {
     "data": {
      "image/png": "[encoded data removed]",
      "text/plain": [
       "<matplotlib.figure.Figure at 0x125b7b518>"
      ]
     },
     "metadata": {
      "needs_background": "light"
     },
     "output_type": "display_data"
    }
   ],
   "source": [
    "# -- plot missingness among numeric features\n",
    "tr_num_missing_dat = rank_missingness(tr_df[tr_num_features], figsize=[10, 6])"
   ]
  },
  {
   "cell_type": "markdown",
   "metadata": {},
   "source": [
    "## Categorical feature selection/engineering\n",
    "\n",
    "Categorical features are usually a bit more of a pain when it comes to modeling than numeric features because most models (especially parametric models) require fully-numeric feature matrices ``X``. There are ways around that by using models like `catboost` that are amenable to using categorical features in their raw form, but most models are not.\n",
    "\n",
    "Here is how I generally handle categorical features when under a time crunch:\n",
    "\n",
    "1. Encode missing categorical feature values as a true level called \"NA\", and cast all categorical features to dataype `str`.\n",
    "2. Use the $\\chi^{2}$ test to identify which categorical features are independent from `isFraud`, in which case it would be unlikely that a feature that's independent from `isFraud` will be able to help predict `isFraud`:\n",
    "$$H_{0_{j}}: \\text{isFraud } {\\perp\\!\\!\\!\\perp} \\text{ Feature}_{j}$$\n",
    "$$H_{1_{j}}: \\text{isFraud and } \\text{Feature}_{j} \\text{ are not independent}$$\n",
    "4. For \"brutally categorical\" features (with say, > 20 unique values), we will one-hot-encode these features, and then further, we will take the low-rank approximation (using the SVD) to the one-hot-encoded feature matrix. Learning from a one-hot-encoded matrix representing 100's of unique levels from just one categorical feature can really slow down model training."
   ]
  },
  {
   "cell_type": "code",
   "execution_count": 15,
   "metadata": {},
   "outputs": [
    {
     "name": "stdout",
     "output_type": "stream",
     "text": [
      "P_emaildomain is a brutally categorical feature: 59 levels\n",
      "R_emaildomain is a brutally categorical feature: 60 levels\n",
      "addr1 is a brutally categorical feature: 332 levels\n",
      "addr2 is a brutally categorical feature: 74 levels\n",
      "card1 is a brutally categorical feature: 13553 levels\n",
      "card2 is a brutally categorical feature: 500 levels\n",
      "card3 is a brutally categorical feature: 114 levels\n",
      "card5 is a brutally categorical feature: 119 levels\n"
     ]
    }
   ],
   "source": [
    "def find_brutally_categorical_features(dat, brutal=20):\n",
    "    \"\"\"\n",
    "    Find `brutally categorical features`, i.e. categorical features with > k unique levels.\n",
    "    \n",
    "    :param dat: pd.DataFrame consisting only of categorical features\n",
    "    :param brutal: int number of unique levels found in a feature before the feature\n",
    "    is declared \"brutally categorical\"\n",
    "    :return: list of feature names with at least `brutal` unique levels\n",
    "    \"\"\"\n",
    "    bcat_features = list()\n",
    "    \n",
    "    for feature in dat.columns:\n",
    "        \n",
    "        vcounts = dat[feature].value_counts()\n",
    "        if vcounts.shape[0] >= brutal:\n",
    "            print(f'{feature} is a brutally categorical feature: {vcounts.shape[0]} levels')\n",
    "            bcat_features.append(feature)    \n",
    "            \n",
    "    return bcat_features\n",
    "\n",
    "\n",
    "# -- find brutally categorical features: cat features with > 20 unique levels\n",
    "tr_brutal_cat_features = find_brutally_categorical_features(tr_df[tr_cat_features])"
   ]
  },
  {
   "cell_type": "code",
   "execution_count": null,
   "metadata": {
    "collapsed": true,
    "scrolled": true
   },
   "outputs": [],
   "source": [
    "def run_chi2_test(dat, y):\n",
    "    \"\"\"\n",
    "    Run chi-square tests on a set of categorical features. One categorical feature = one test.\n",
    "    Each test computes the expected number of +/- class-label entries per categorical feature level\n",
    "    were the class-labels independent of the categorical feature in question.\n",
    "    \n",
    "    When p-value > 0.05, interpret this to mean that we reject H0 that class and feature are independent.\n",
    "    \n",
    "    :param dat: pd.DataFrame containing categorical features in str form (cannot contain NaNs). Shape n x p.\n",
    "    :param y: 1-d np.array or pd.Series of class-labels. Shape n x 1.\n",
    "    :return: 1-d np.array of p-values\n",
    "    \"\"\"\n",
    "\n",
    "    # -- encode categorical features from str to integer.\n",
    "    cat_enc = OrdinalEncoder()\n",
    "    cat_enc.fit(dat)\n",
    "\n",
    "    # -- run chi-square tests on integer-encoded dataset.\n",
    "    chi = chi2(cat_enc.transform(dat)\n",
    "               , y=y)\n",
    "\n",
    "    # -- extract p-values.\n",
    "    pvals = chi[1]\n",
    "\n",
    "    # -- plot p-values.\n",
    "    p = pd.Series(pvals\n",
    "                  , index=dat.columns.tolist()).plot(kind='barh', figsize=[10, 6])\n",
    "    p.axvline(x=0.05\n",
    "              , c='red'\n",
    "              , linewidth=0.5\n",
    "              , linestyle='--')\n",
    "    p.set_title('Chi-square test p-values: categorical features')\n",
    "    p.set_xlabel('p-value')\n",
    "    \n",
    "    return pvals\n",
    "\n",
    "\n",
    "tmp = tr_df[tr_cat_num_features + [target]].dropna()\n",
    "pval_vec = run_chi2_test(tmp\n",
    "                         , y=tmp[target])"
   ]
  },
  {
   "cell_type": "markdown",
   "metadata": {},
   "source": [
    "### Brutally categorical features: dimensionality reduction.\n",
    "\n",
    "The next cell emulates the sklearn Pipeline we're going to build for brutally-categorical features:\n",
    "\n",
    "1. Encode string categorical levels into integers.\n",
    "2. Encode the integers into a (sparse) one-hot-encoded matrix.\n",
    "3. Reduce the dimensionality of the sparse OHE matrix into something more manageable via the SVD."
   ]
  },
  {
   "cell_type": "code",
   "execution_count": null,
   "metadata": {
    "collapsed": true
   },
   "outputs": [],
   "source": [
    "# -- encode string categorical features to integers\n",
    "ord_enc = OrdinalEncoder()\n",
    "ord_enc.fit(tr_df[tr_brutal_cat_features])\n",
    "ord_enc_dat = ord_enc.transform(tr_df[tr_brutal_cat_features])\n",
    "\n",
    "# -- one-hot-encode the integer encoding\n",
    "ohe_enc = OneHotEncoder()\n",
    "ohe_enc.fit(ord_enc_dat)\n",
    "ohe_enc_dat = ohe_enc.transform(ord_enc_dat)\n",
    "\n",
    "# -- fit SVD using many components so that we can view the %-variance explained\n",
    "svd_wide = TruncatedSVD(n_components=200)\n",
    "svd_wide.fit(ohe_enc_dat)\n",
    "var_expl = 100 * np.cumsum(svd_wide.singular_values_**2) / np.sum(svd_wide.singular_values_**2)\n",
    "\n",
    "# -- plot variance explained by each principal component\n",
    "dat = pd.DataFrame({'PC': range(svd_wide.n_components)\n",
    "                  , 'cumulative %-variance explained': var_expl})\n",
    "ax = sns.barplot(x='PC'\n",
    "                 , y='cumulative %-variance explained'\n",
    "                 , data=dat)\n",
    "ax.get_xaxis().set_ticks([])\n",
    "\n",
    "plt.show()"
   ]
  },
  {
   "cell_type": "code",
   "execution_count": null,
   "metadata": {
    "collapsed": true
   },
   "outputs": [],
   "source": [
    "# -- fit low-rank SVD based on % explained, project OHE data to low-rank approx.\n",
    "# -- Use SVD instead of PCA because PCA transformer does\n",
    "# -- not accept sparse input (memory killer).\n",
    "svd = TruncatedSVD(n_components=40)\n",
    "svd.fit(ohe_enc_dat)\n",
    "ohe_svd_dat = svd.transform(ohe_enc_dat)"
   ]
  },
  {
   "cell_type": "code",
   "execution_count": null,
   "metadata": {
    "collapsed": true
   },
   "outputs": [],
   "source": [
    "np.random.seed(seed=666)\n",
    "\n",
    "# -- downsample so we can visualize more quickly\n",
    "dsamp_vec = np.random.choice(range(ohe_svd_dat.shape[0])\n",
    "                             , size=10000\n",
    "                             , replace=False)\n",
    "\n",
    "# -- clustering does not seem handily apparent,\n",
    "# -- but then again none of these brutally categorical features\n",
    "# -- showed up in our chi-square test as non-independent from target variable.\n",
    "dims = [0, 1]\n",
    "plt.scatter(ohe_svd_dat[dsamp_vec, dims[0]]\n",
    "            , y = ohe_svd_dat[dsamp_vec, dims[1]]\n",
    "            , alpha=0.5\n",
    "            , c=tr_df[target].iloc[dsamp_vec]\n",
    "            , cmap='viridis')\n",
    "\n",
    "plt.title('SVD projection of OHE brutally-categorical features')\n",
    "plt.xlabel('PC dimension ' + str(dims[0]))\n",
    "plt.ylabel('PC dimension ' + str(dims[1]))\n",
    "\n",
    "plt.show()"
   ]
  },
  {
   "cell_type": "code",
   "execution_count": null,
   "metadata": {
    "collapsed": true
   },
   "outputs": [],
   "source": []
  },
  {
   "cell_type": "code",
   "execution_count": null,
   "metadata": {
    "collapsed": true
   },
   "outputs": [],
   "source": []
  },
  {
   "cell_type": "code",
   "execution_count": null,
   "metadata": {
    "collapsed": true
   },
   "outputs": [],
   "source": []
  },
  {
   "cell_type": "code",
   "execution_count": null,
   "metadata": {
    "collapsed": true
   },
   "outputs": [],
   "source": []
  },
  {
   "cell_type": "markdown",
   "metadata": {},
   "source": [
    "## Numeric feature selection/engineering\n",
    "\n",
    "By numeric features I mean roughly-continuously valued features. There are some easily-interpretable methods for feature selection and feature engineering. Here are some that I like to apply:\n",
    "\n",
    "1. t-tests: does the distribution of feature $X_{j}$ actually change between the classes in the target vector $y$?\n",
    "2. Variance thresholding: does feature $X_{j}$ have variance that's reasonably bounded away from 0? We don't want to add nearly-constant terms to our model, it won't add any modeling capacity.\n",
    "3. Find highly correlated numeric features. These are multicolinear, and will cause issues in fitting linear/GLM models. In theory, taking one feature vs. its highly-correlated counterpart should not really matter for modeling purposes.\n",
    "3. Applying LASSO feature engineering: by applying an increasing level of regularization in a penalized linear regression model (e.g. the LASSO model), we can easily visualize which features are quickly dropped under low-regularization and which features endure until the regularization penalty is simply too large."
   ]
  },
  {
   "cell_type": "code",
   "execution_count": 16,
   "metadata": {},
   "outputs": [
    {
     "data": {
      "image/png": "[encoded data removed]",
      "text/plain": [
       "<matplotlib.figure.Figure at 0x125e07e48>"
      ]
     },
     "metadata": {
      "needs_background": "light"
     },
     "output_type": "display_data"
    }
   ],
   "source": [
    "# -- plot missingness among numeric features.\n",
    "tr_num_missing_dat = rank_missingness(tr_df[tr_num_features]\n",
    "                                      , figsize=[10, 6])"
   ]
  },
  {
   "cell_type": "code",
   "execution_count": null,
   "metadata": {
    "collapsed": true
   },
   "outputs": [],
   "source": [
    "from scipy.stats import ttest_ind\n",
    "\n",
    "\n",
    "def run_ttests(dat, y, equal_var=False):\n",
    "    \"\"\"\n",
    "    Run t-tests over features in a pandas Data.Frame between groups defined in a \n",
    "    binary label vector, `y`.\n",
    "    \n",
    "    \n",
    "    :param dat: pd.DataFrame containing numeric features. Shape `n x p`\n",
    "    :param y: pd.Series or np.array of binary target labels in {0, 1}. Shape `n x 1`.\n",
    "    :param equal_var: bool should t-test assume equal variance between the two groups in `y`?\n",
    "    :return: list of column names in dat found to have significantly different means\n",
    "    between the two groups\n",
    "    \"\"\"    \n",
    "    signif_features = list()\n",
    "    \n",
    "    # -- get indices of positive/negative class instances\n",
    "    pos_idx = np.where(y == 1)[0]\n",
    "    neg_idx = np.where(y == 0)[0]\n",
    "\n",
    "    # -- iterate over features\n",
    "    for feature in dat.columns:\n",
    "        \n",
    "        fvec = dat[feature].values\n",
    "        \n",
    "        # -- run t-test\n",
    "        pval = ttest_ind(fvec[pos_idx]\n",
    "                         , b=fvec[neg_idx]\n",
    "                         , axis=0\n",
    "                         , equal_var=equal_var).pvalue\n",
    "\n",
    "        if pval <= 0.05:\n",
    "            signif_features.append(feature)\n",
    "            print(feature + ' p-value = {0:.4f}'.format(pval))\n",
    "            \n",
    "    return signif_features\n",
    "\n",
    "\n",
    "# -- find significant features according to t-test\n",
    "signif_num_features = run_ttests(tr_df[tr_num_features]\n",
    "                                 , y=tr_df[target]\n",
    "                                 , equal_var=False)"
   ]
  },
  {
   "cell_type": "code",
   "execution_count": null,
   "metadata": {
    "collapsed": true
   },
   "outputs": [],
   "source": [
    "def plot_grouped_histograms(dat, y, std=False):\n",
    "    \"\"\"\n",
    "    Provide plotting functionality - plot grouped histograms for the features\n",
    "    provided in a pd.DataFrame, grouped by class labels in the target vector, `y`.\n",
    "    \n",
    "    :param dat: pd.DataFrame containing numeric features. Shape `n x p`\n",
    "    :param y: pd.Series or np.array of binary target labels in {0, 1}. Shape `n x 1`.\n",
    "    \"\"\"\n",
    "    n_subplots = dat.shape[1]    \n",
    "    n_row = int(np.ceil(n_subplots / 2))\n",
    "    n_col = 1 if n_subplots == 1 else 2\n",
    "    \n",
    "    fig, ax = plt.subplots(n_row, n_col, figsize=[n_col*6, n_row*3])\n",
    "    \n",
    "    for i in range(n_subplots):\n",
    "        fvec = dat.values[:, i]\n",
    "        \n",
    "        # -- get indices of positive/negative class instances\n",
    "        pos_idx = np.where(y == 1)[0]\n",
    "        neg_idx = np.where(y == 0)[0]\n",
    "        \n",
    "        # -- plot n/2 x 2 grid.\n",
    "        if n_row > 1:\n",
    "            plt_row = int(np.floor(i / 2))\n",
    "            plt_col = 0 if i % 2 == 0 else 1\n",
    "            \n",
    "            x_pos = fvec[pos_idx]\n",
    "            x_neg = fvec[neg_idx]\n",
    "            \n",
    "            # -- normalize distributions before plotting hists, if asked to do so\n",
    "            if std:\n",
    "                x_pos = (x_pos - np.mean(x_pos)) / np.std(x_pos)\n",
    "                x_neg = (x_neg - np.mean(x_neg)) / np.std(x_neg)\n",
    "            \n",
    "            ax[plt_row, plt_col].hist(x_pos\n",
    "                                        , bins=50\n",
    "                                        , alpha=0.5\n",
    "                                        , color='r'\n",
    "                                        , label='1'\n",
    "                                         , density=True\n",
    "                                         , stacked=True)\n",
    "\n",
    "            ax[plt_row, plt_col].hist(x_neg\n",
    "                                        , bins=50\n",
    "                                        , alpha=0.5\n",
    "                                        , color='b'\n",
    "                                        , label='0'\n",
    "                                        , density=True\n",
    "                                         , stacked=True)\n",
    "            ax[plt_row, plt_col].set_title(dat.columns[i])\n",
    "            \n",
    "        # -- plot 1 x 2 grid.\n",
    "        elif n_subplots == 2:\n",
    "            ax[i].hist(fvec[pos_idx]\n",
    "                       , bins=50\n",
    "                       , alpha=0.5\n",
    "                       , color='r'\n",
    "                       , label='1'\n",
    "                       , density=True\n",
    "                       , stacked=True)\n",
    "\n",
    "            ax[i].hist(fvec[neg_idx]\n",
    "                       , bins=50\n",
    "                       , alpha=0.5\n",
    "                       , color='b'\n",
    "                       , label='0'\n",
    "                       , density=True\n",
    "                       , stacked=True)\n",
    "            ax[i].set_title(dat.columns[i])\n",
    "        \n",
    "        # -- plot single histogram.\n",
    "        else:\n",
    "            ax.hist(fvec[pos_idx]\n",
    "                       , bins=50\n",
    "                       , alpha=0.5\n",
    "                       , color='r'\n",
    "                       , label='1'\n",
    "                       , density=True\n",
    "                       , stacked=True)\n",
    "\n",
    "            ax.hist(fvec[neg_idx]\n",
    "                       , bins=50\n",
    "                       , alpha=0.5\n",
    "                       , color='b'\n",
    "                       , label='0'\n",
    "                       , density=True\n",
    "                       , stacked=True)\n",
    "            ax.set_title(dat.columns[i])\n",
    "\n",
    "plot_grouped_histograms(tr_df[signif_num_features]\n",
    "                        , y = tr_df[target]\n",
    "                        , std=True)"
   ]
  },
  {
   "cell_type": "code",
   "execution_count": null,
   "metadata": {
    "collapsed": true
   },
   "outputs": [],
   "source": [
    "def identify_degenerate_features(dat, ecdf_threshold=0.95):\n",
    "    \"\"\"\n",
    "    Identify low-variance features by the following criteria:\n",
    "    1. Find a feature's modal value.\n",
    "    2. If more than > ecdf_threshold% of all data samples take on that modal value,\n",
    "    then consider the feature degenerate.\n",
    "    \n",
    "    :param dat: pd.DataFrame containing numeric features. Shape `n x p`.\n",
    "    :param ecdf_threshold: float in [0, 1], represents cutoff value in terms of cumulative amount of\n",
    "    time spent at the modal value. If a feature spends > ecdf_threshold% of time at the modal value,\n",
    "    consider the feature a stagnant feature.\n",
    "    :return: list of str, names of stagnant features.\n",
    "    \"\"\"\n",
    "    if ecdf_threshold < 0 or ecdf_threshold > 1:\n",
    "        raise ValueError('ecdf_threshold must lie within [0, 1]')\n",
    "    \n",
    "    degen_feature_dat = dat.apply(lambda x: x.value_counts(normalize=True\n",
    "                                                           , ascending=False).max() > ecdf_threshold\n",
    "                                 , axis=0)\n",
    "    degen_features = degen_feature_dat[degen_feature_dat].index.tolist()\n",
    "    \n",
    "    \n",
    "    return degen_features\n",
    "\n",
    "\n",
    "# -- identify degenerate numeric/categorical features\n",
    "degenerate_num_features = identify_degenerate_features(tr_df[tr_num_features])\n",
    "degenerate_cat_features = identify_degenerate_features(tr_df[tr_cat_features])\n",
    "\n",
    "# -- exclude degenerate features from greater set of numeric features\n",
    "tr_num_features = [x for x in tr_num_features if x not in degenerate_num_features]"
   ]
  },
  {
   "cell_type": "code",
   "execution_count": null,
   "metadata": {
    "collapsed": true
   },
   "outputs": [],
   "source": [
    "# -- biclustering! See if there are important grouped-up patterns in correlation among our features.\n",
    "from sklearn.cluster import SpectralCoclustering\n",
    "from sklearn.metrics import consensus_score\n",
    "\n",
    "\n",
    "def bicluster_correlation_matrix(dat, n_clusters=10, figsize=None):\n",
    "    \"\"\"\n",
    "    Group similar variables together by running Spectral coclustering algorithm on a dataset's correlation matrix.\n",
    "    See https://bit.ly/2QgXZB2 for more details.\n",
    "    \n",
    "    Spectral coclustering finds groups of similar (row, column) subsets where each column can only belong to \n",
    "    a single bicluster. This is different than \"checkerboard\" biclustering.\n",
    "    \n",
    "    :param dat: pd.DataFrame containing numeric features. Shape `n x p`.\n",
    "    :param n_clusters: int number of biclusters to construct\n",
    "    :param figsize: 2-tuple of int, pyplot Figure size. Default [10, 6].\n",
    "    :return: fitted sklearn.cluster.SpectralCoclustering model\n",
    "    \"\"\"\n",
    "\n",
    "    # -- get estimate of correlation matrix using median-imputed version of data,\n",
    "    # -- and then downsample to 50k datapoints for speed.\n",
    "    num_df = dat.iloc[np.random.choice(range(dat.shape[0])\n",
    "                                       , size=min(100000, dat.shape[0])\n",
    "                                       , replace=False)]\n",
    "    cor_mat = num_df.fillna(num_df.median()).corr()\n",
    "\n",
    "    # -- run coclustering.\n",
    "    coclust = SpectralCoclustering(n_clusters=n_clusters\n",
    "                                   , random_state=666)\n",
    "    coclust.fit(cor_mat)\n",
    "\n",
    "    # -- re-order correlation matrix by cluster indices.\n",
    "    biclust_dat = cor_mat.iloc[np.argsort(coclust.row_labels_)]\n",
    "    biclust_dat = biclust_dat.iloc[:, np.argsort(coclust.column_labels_)]\n",
    "\n",
    "    # -- display biclustering pattern.\n",
    "    fig = plt.figure(figsize=figsize if figsize else [10, 10])\n",
    "    ax = fig.add_subplot(111)\n",
    "    ax = ax.matshow(biclust_dat\n",
    "                     , cmap='cool')\n",
    "    ax.set_title(f'Correlation matrix post-biclustering: {n_clusters} clusters')\n",
    "\n",
    "    ax.set_yticks(range(biclust_dat.shape[0]))\n",
    "    ax.set_yticklabels(biclust_dat.index.tolist())\n",
    "\n",
    "    plt.show()\n",
    "    \n",
    "    return coclust\n",
    "    \n",
    "\n",
    "# -- run biclustering on numeric features.\n",
    "clust = bicluster_correlation_matrix(tr_df[tr_num_features]\n",
    "                                     , n_clusters=12\n",
    "                                     , figsize=[20, 20])"
   ]
  },
  {
   "cell_type": "code",
   "execution_count": 34,
   "metadata": {},
   "outputs": [],
   "source": [
    "class UncorrelatedFeatureSelector(BaseEstimator, TransformerMixin):\n",
    "    \"\"\"\n",
    "    Custom feature selector to drop highly-correlated features.\n",
    "    This should technically inherit from a SelectorMixin class, as this is a an implementation\n",
    "    of a feature selector not a feature transformer, but the TransformerMixin api is easier to work with.\n",
    "    \n",
    "    Args:\n",
    "        drop_threshold: (float) absolute value of correlation coefficient, beyond which\n",
    "                        one of (feature_i, feature_j) will be dropped should they be found to be highly correlated.\n",
    "        dsample: (float or int) either fraction of dataset or integer number of rows to sample in order to compute\n",
    "                correlation matrix.\n",
    "    \"\"\"\n",
    "    def __init__(self, cor_threshold=0.95, dsample=50000, seed=None):\n",
    "        self.cor_threshold = cor_threshold\n",
    "        self.dsample = dsample\n",
    "        self._is_df = False\n",
    "        self._mask = None\n",
    "        self._seed = seed\n",
    "        \n",
    "        \n",
    "    def fit(self, X, y = None):\n",
    "        \"\"\"\n",
    "        Sample data to create a correlation matrix and find features in \n",
    "        X that are highly correlated with others.\n",
    "        \n",
    "        Args:\n",
    "            X: pd.DataFrame or 2-d numpy.array\n",
    "        \"\"\"\n",
    "        n, p = X.shape\n",
    "                \n",
    "        # -- determine downsampling rate for computing correlation matrix.\n",
    "        if isinstance(self.dsample, float) and self.dsample > 0 and self.dsample <= 1:\n",
    "            dsample = self.dsample * n\n",
    "            \n",
    "        elif self.dsample > 1:\n",
    "            dsample = self.dsample\n",
    "            \n",
    "        else:\n",
    "            dsample = n\n",
    "        \n",
    "        # -- create downsampling index vector.\n",
    "        dsample = min(dsample, n)\n",
    "        \n",
    "        if self._seed:\n",
    "            np.random.seed(self._seed)\n",
    "            \n",
    "        self._dsample_vec = np.random.choice(range(n)\n",
    "                                             , size=dsample\n",
    "                                             , replace=False)\n",
    "                        \n",
    "        # -- workflow for dataframe input.\n",
    "        if isinstance(X, pd.DataFrame):\n",
    "            cor_mat_abs = X.iloc[self._dsample_vec].corr().abs().values\n",
    "            self._is_df = True\n",
    "\n",
    "        # -- workflow for numpy array input.\n",
    "        else:\n",
    "            # -- np.corrcoef by default thinkns of rows as variables... and cols as observations(?)\n",
    "            take_cor = X[self._dsample_vec, :] if not issparse(X) else X[self._dsample_vec, :].todense()\n",
    "            cor_mat_abs = np.abs(np.corrcoef(take_cor\n",
    "                                            , rowvar=False))\n",
    "            del take_cor\n",
    "            \n",
    "        cor_upper = np.triu(cor_mat_abs, k=1)\n",
    "         \n",
    "        # -- Identify multicollinear features and drop them from X.\n",
    "        hi_cor_features = [j for j in range(p) if np.any(cor_upper[:, j] > self.cor_threshold)]\n",
    "        self._mask = np.sort(np.array(list(set(range(p)) - set(hi_cor_features))))\n",
    "        \n",
    "        return self\n",
    "    \n",
    "        \n",
    "    def transform(self, X, y = None):\n",
    "        \"\"\"\n",
    "        Reduce X to the selected non-highly correlated features.\n",
    "\n",
    "        Args:\n",
    "            X: pd.DataFrame or 2-d numpy.array\n",
    "        \"\"\"\n",
    "        if not isinstance(self._mask, np.ndarray):\n",
    "            raise NotFittedError()\n",
    "        \n",
    "        if self._is_df:\n",
    "            return X.iloc[:, self._mask]\n",
    "        \n",
    "        else:\n",
    "            return X[:, self._mask]\n",
    "        \n",
    "        \n",
    "class NonDegenerateFeatureSelector(BaseEstimator, TransformerMixin):\n",
    "    \"\"\"\n",
    "    Custom feature selector to drop degenerate (i.e. very low-variance) features.\n",
    "    \n",
    "    Args:\n",
    "        ecdf_threshold: (float) proportion between 0 and 1 of values in a given feature\n",
    "                        taking on a single value before the feature is witheld from feature set.\n",
    "    \"\"\"\n",
    "    def __init__(self, ecdf_threshold=0.95):\n",
    "        ecdf_threshold = 1. if not ecdf_threshold else ecdf_threshold\n",
    "        \n",
    "        if (ecdf_threshold < 0.) or (ecdf_threshold > 1.):\n",
    "            raise ValueError('ecdf_threshold must lie within [0, 1]')\n",
    "            \n",
    "        self.ecdf_threshold = ecdf_threshold\n",
    "        self.is_df = None\n",
    "        \n",
    "        \n",
    "    def fit(self, X, y = None):\n",
    "        \"\"\"\n",
    "        Identify features that take on a single value at least 100% x ecdf_threshold of the time.\n",
    "        \n",
    "        Args:\n",
    "            X: pd.DataFrame or 2-d numpy.array\n",
    "        \"\"\"\n",
    "        n, p = X.shape\n",
    "        self._is_df = isinstance(X, pd.DataFrame)\n",
    "        \n",
    "        # -- workflow for pandas dataframe vs. numpy array.\n",
    "        degen_features = list()\n",
    "        if self._is_df:\n",
    "            degen_features = X.apply(lambda z: z.value_counts(normalize=True\n",
    "                                                              , ascending=False).max() >= self.ecdf_threshold\n",
    "                                     , axis=0).index.tolist()\n",
    "        \n",
    "        else:\n",
    "            sp = issparse(X)\n",
    "            \n",
    "            for j in range(p):\n",
    "                max_occ = np.max(np.unique(X[:, j] if not sp else np.ravel(X[:, j].todense())\n",
    "                                           , return_counts=True)[1] / n)\n",
    "                if max_occ >= self.ecdf_threshold:\n",
    "                    degen_features.append(j)\n",
    "                    \n",
    "        self._mask = np.sort(np.array(list(set(range(p)) - set(degen_features))))\n",
    "\n",
    "        return self\n",
    "    \n",
    "    \n",
    "    def transform(self, X, y = None):\n",
    "        \n",
    "        if not isinstance(self._mask, np.ndarray):\n",
    "            raise NotFittedError()\n",
    "        \n",
    "        if self._is_df:\n",
    "            return X.iloc[:, self._mask]\n",
    "        \n",
    "        else:\n",
    "            return X[:, self._mask]"
   ]
  },
  {
   "cell_type": "code",
   "execution_count": null,
   "metadata": {
    "collapsed": true
   },
   "outputs": [],
   "source": []
  },
  {
   "cell_type": "markdown",
   "metadata": {},
   "source": [
    "# Build the pipeline\n",
    "\n",
    "\n",
    "### Categorical features:\n",
    "1. Impute data:\n",
    "    - string-categorical features: missing values -> 'NA'\n",
    "    - int/float-categorical feautures: missing values -> -999\n",
    "    - numeric features: nan -> median feature value\n",
    "2. Binarize \n",
    "2. Impute missing categorical feature values with the string value 'NA'.\n",
    "3. One-hot \n"
   ]
  },
  {
   "cell_type": "code",
   "execution_count": 90,
   "metadata": {},
   "outputs": [],
   "source": [
    "# -- find features with high missingness that will be converted into \n",
    "# -- missingness indicator features.\n",
    "tr_cat_binarize_cols = tr_cat_missing_dat[tr_cat_missing_dat > 50].index.tolist()\n",
    "tr_num_binarize_cols = tr_num_missing_dat[tr_num_missing_dat > 50].index.tolist()\n",
    "\n",
    "# -- find high-cardinality features\n",
    "tr_hi_card_cols = tr_brutal_cat_features\n",
    "tr_lo_card_cols = list(set(tr_cat_features) - set(tr_hi_card_cols))\n",
    "\n",
    "# -- separate string/numeric-valued high/lo-cardinality features.\n",
    "tr_cat_num_hi_card_features = [x for x in tr_cat_num_features if x in tr_hi_card_cols]\n",
    "tr_cat_str_hi_card_features = [x for x in tr_cat_str_features if x in tr_hi_card_cols]\n",
    "tr_cat_num_lo_card_features = [x for x in tr_cat_num_features if x in tr_lo_card_cols]\n",
    "tr_cat_str_lo_card_features = [x for x in tr_cat_str_features if x in tr_lo_card_cols]\n",
    "\n",
    "hi_card_cat_imputer = ColumnTransformer([('impute_hi_card_cat_num', SimpleImputer(strategy='constant', fill_value=-999), tr_cat_num_hi_card_features)\n",
    "                                            , ('impute_hi_card_cat_str', SimpleImputer(strategy='constant', fill_value='NA'), tr_cat_str_hi_card_features)])\n",
    "hi_card_pipeline = make_pipeline(hi_card_cat_imputer\n",
    "                                 , OneHotEncoder(handle_unknown='ignore')\n",
    "                                 , TruncatedSVD(n_components=100))\n",
    "\n",
    "# -- define low-cardinality categorical processing pipeline defined only on low-cardinality categorical features.\n",
    "lo_card_cat_imputer = ColumnTransformer([('impute_lo_card_cat_num', SimpleImputer(strategy='constant', fill_value=-999), tr_cat_num_lo_card_features)\n",
    "                                            , ('impute_lo_card_cat_str', SimpleImputer(strategy='constant', fill_value='NA'), tr_cat_str_lo_card_features)])\n",
    "\n",
    "lo_card_pipeline = make_pipeline(lo_card_cat_imputer\n",
    "                                 , OneHotEncoder(handle_unknown='ignore'))\n",
    "    \n",
    "# -- create separate binarizer only defined on high-missingness categorical features.\n",
    "cat_binarizer = ColumnTransformer([('missing_cat_binarizer', MissingIndicator(), tr_cat_binarize_cols)])\n",
    "\n",
    "# -- column-concatenate separate categorical feature pipelines\n",
    "cat_pipeline = FeatureUnion([('hi_card', hi_card_pipeline)\n",
    "                             , ('lo_card', lo_card_pipeline)\n",
    "                             , ('missing_cat_binarizer', cat_binarizer)])\n",
    "\n",
    "# -- create numeric feature processing pipeline defined only on numeric features.\n",
    "num_binarizer = ColumnTransformer([('missing_num_binarizer', MissingIndicator(), tr_num_binarize_cols)])\n",
    "num_pipeline = make_pipeline(ColumnTransformer([('impute_num', SimpleImputer(strategy='median'), tr_num_features)])\n",
    "                             , StandardScaler())\n",
    "\n",
    "benchmark_feature_pipeline = deepcopy(num_pipeline)\n",
    "\n",
    "# -- column-concatenate separate missingness-binarized variables.\n",
    "num_pipeline = FeatureUnion([('num_pipeline', num_pipeline)\n",
    "                             , ('missing_num_binarizer', num_binarizer)])\n",
    "\n",
    "\n",
    "feature_pipeline = Pipeline(steps=[('preprocess', FeatureUnion([('categorical', cat_pipeline)\n",
    "                                                                , ('numeric', num_pipeline)]))\n",
    "                                   , ('decorrelate', UncorrelatedFeatureSelector())\n",
    "                                   , ('nondegenerate', NonDegenerateFeatureSelector(ecdf_threshold=0.95))])"
   ]
  },
  {
   "cell_type": "markdown",
   "metadata": {},
   "source": [
    "# Training, test split\n",
    "\n",
    "Since we have nearly 600,000 training examples, an 80%/20% training/test split will still provide us close to half a million training examples and close to 100,000 test examples."
   ]
  },
  {
   "cell_type": "code",
   "execution_count": 82,
   "metadata": {},
   "outputs": [],
   "source": [
    "x_df_train, x_df_test, y_train, y_test = train_test_split(tr_df[tr_num_features + tr_cat_features]\n",
    "                                                          , tr_df[target].values\n",
    "                                                          , test_size=0.2\n",
    "                                                          , random_state=666)\n",
    "\n",
    "\n",
    "def find_pipeline_params(p, pattern):\n",
    "    for k in p.get_params().keys():\n",
    "        if re.search(pattern, string=k):\n",
    "            msg = f'parameter matching pattern \"{pattern}\": {k}'\n",
    "            print(msg)"
   ]
  },
  {
   "cell_type": "markdown",
   "metadata": {},
   "source": [
    "## Define a benchmark model\n",
    "\n",
    "We should define an easily-understood benchmark model whose performance metrics will serve as a lower-bound against more complex models' performance. If we can't beat the benchmark model's performance with a really large, black-box model, then we should settle for the benchmark's performance.\n",
    "\n",
    "The benchmark model we'll use looks like this:\n",
    "1. Using *only* continuous features, first impute and standardize the inputs.\n",
    "2. Select the k-best features according to F-test scores (measures of between-class variance vs. within-class variance).\n",
    "3. Random nonlinear feature generation based on these top *k* features through Random Kitchen Sinks method approximating a radial basis function kernel.\n",
    "4. Penalized SVM model with linear kernel."
   ]
  },
  {
   "cell_type": "code",
   "execution_count": 39,
   "metadata": {},
   "outputs": [
    {
     "name": "stdout",
     "output_type": "stream",
     "text": [
      "Fitting 3 folds for each of 2 candidates, totalling 6 fits\n"
     ]
    },
    {
     "name": "stderr",
     "output_type": "stream",
     "text": [
      "[Parallel(n_jobs=2)]: Using backend LokyBackend with 2 concurrent workers.\n",
      "[Parallel(n_jobs=2)]: Done   1 tasks      | elapsed:  1.2min\n",
      "[Parallel(n_jobs=2)]: Done   4 out of   6 | elapsed:  2.8min remaining:  1.4min\n",
      "[Parallel(n_jobs=2)]: Done   6 out of   6 | elapsed:  4.2min remaining:    0.0s\n",
      "[Parallel(n_jobs=2)]: Done   6 out of   6 | elapsed:  4.2min finished\n"
     ]
    },
    {
     "data": {
      "text/plain": [
       "GridSearchCV(cv=3, error_score=nan,\n",
       "             estimator=Pipeline(memory=None,\n",
       "                                steps=[('lasso',\n",
       "                                        LogisticRegression(C=1.0,\n",
       "                                                           class_weight={0: 1,\n",
       "                                                                         1: 4},\n",
       "                                                           dual=False,\n",
       "                                                           fit_intercept=True,\n",
       "                                                           intercept_scaling=1,\n",
       "                                                           l1_ratio=None,\n",
       "                                                           max_iter=100,\n",
       "                                                           multi_class='auto',\n",
       "                                                           n_jobs=None,\n",
       "                                                           penalty='l1',\n",
       "                                                           random_state=None,\n",
       "                                                           solver='liblinear',\n",
       "                                                           tol=0.0001,\n",
       "                                                           verbose=0,\n",
       "                                                           warm_start=False))],\n",
       "                                verbose=False),\n",
       "             iid='deprecated', n_jobs=2, param_grid={'lasso__C': [0.1, 1]},\n",
       "             pre_dispatch='2*n_jobs', refit='f1', return_train_score=False,\n",
       "             scoring=['f1', 'roc_auc', 'recall', 'precision', 'accuracy'],\n",
       "             verbose=10)"
      ]
     },
     "execution_count": 39,
     "metadata": {},
     "output_type": "execute_result"
    }
   ],
   "source": [
    "# -- benchmark model: Kernel approximation via K-best feature selection + RKS + regularized linear SVM\n",
    "x_bench_df_train, x_bench_df_test, y_bench_train, y_bench_test = train_test_split(tr_df[tr_num_features]\n",
    "                                                                          , tr_df[target].values\n",
    "                                                                          , test_size=0.2\n",
    "                                                                          , random_state=666)\n",
    "# -- fit benchmark preprocessing pipeline\n",
    "benchmark_feature_pipeline = make_pipeline(benchmark_feature_pipeline\n",
    "                                           , UncorrelatedFeatureSelector()\n",
    "                                           , NonDegenerateFeatureSelector(ecdf_threshold=0.95))\n",
    "x_bench_train = benchmark_feature_pipeline.fit_transform(x_bench_df_train)\n",
    "\n",
    "# -- fit benchmark model pipeline\n",
    "benchmark_model_pipeline = Pipeline(steps=[('lasso', LogisticRegression(penalty='l1'\n",
    "                                                                        , solver='liblinear'\n",
    "                                                                        , class_weight = {0: 1, 1: 4}))\n",
    "                                          ])\n",
    "\n",
    "# -- run benchmark model grid search, tallying F1 and ROC AUC along the way.\n",
    "# -- Since classes are so unbalanced, accuracy is not a really helpful scoring metric.\n",
    "benchmark_gcv = GridSearchCV(benchmark_model_pipeline\n",
    "                             , param_grid=dict(lasso__C=[0.1, 1, 10, 100])\n",
    "                             , cv=3\n",
    "                             , n_jobs=2\n",
    "                             , scoring=['f1', 'roc_auc', 'recall', 'precision', 'accuracy']\n",
    "                             , refit = 'f1'\n",
    "                             , verbose=10)\n",
    "\n",
    "# -- run grid search job. Ensure that targets are integers (by rounding).\n",
    "benchmark_gcv.fit(x_bench_train\n",
    "                  , y=y_bench_train)"
   ]
  },
  {
   "cell_type": "code",
   "execution_count": 44,
   "metadata": {},
   "outputs": [
    {
     "data": {
      "text/plain": [
       "{'lasso__C': 1}"
      ]
     },
     "execution_count": 44,
     "metadata": {},
     "output_type": "execute_result"
    }
   ],
   "source": [
    "benchmark_gcv.best_params_"
   ]
  },
  {
   "cell_type": "code",
   "execution_count": 45,
   "metadata": {},
   "outputs": [
    {
     "data": {
      "text/plain": [
       "{'mean_fit_time': array([78.22804697, 84.83962631]),\n",
       " 'std_fit_time': array([11.95963038,  2.96809056]),\n",
       " 'mean_score_time': array([0.74578094, 0.75446447]),\n",
       " 'std_score_time': array([0.0652471 , 0.16592835]),\n",
       " 'param_lasso__C': masked_array(data=[0.1, 1],\n",
       "              mask=[False, False],\n",
       "        fill_value='?',\n",
       "             dtype=object),\n",
       " 'params': [{'lasso__C': 0.1}, {'lasso__C': 1}],\n",
       " 'split0_test_f1': array([0.33877882, 0.3388382 ]),\n",
       " 'split1_test_f1': array([0.33168083, 0.33227214]),\n",
       " 'split2_test_f1': array([0.33399141, 0.33600186]),\n",
       " 'mean_test_f1': array([0.33481702, 0.33570407]),\n",
       " 'std_test_f1': array([0.00295596, 0.00268884]),\n",
       " 'rank_test_f1': array([2, 1], dtype=int32),\n",
       " 'split0_test_roc_auc': array([0.81680815, 0.81674815]),\n",
       " 'split1_test_roc_auc': array([0.81753634, 0.81748836]),\n",
       " 'split2_test_roc_auc': array([0.82158584, 0.82160272]),\n",
       " 'mean_test_roc_auc': array([0.81864344, 0.81861308]),\n",
       " 'std_test_roc_auc': array([0.00210172, 0.00213549]),\n",
       " 'rank_test_roc_auc': array([1, 2], dtype=int32),\n",
       " 'split0_test_recall': array([0.26437613, 0.26528029]),\n",
       " 'split1_test_recall': array([0.25411467, 0.25483813]),\n",
       " 'split2_test_recall': array([0.2600832 , 0.26189184]),\n",
       " 'mean_test_recall': array([0.25952467, 0.26067009]),\n",
       " 'std_test_recall': array([0.0042078 , 0.00434965]),\n",
       " 'rank_test_recall': array([2, 1], dtype=int32),\n",
       " 'split0_test_precision': array([0.47146082, 0.46883988]),\n",
       " 'split1_test_precision': array([0.47740401, 0.47730352]),\n",
       " 'split2_test_precision': array([0.46658014, 0.46860841]),\n",
       " 'mean_test_precision': array([0.47181499, 0.47158394]),\n",
       " 'std_test_precision': array([0.00442592, 0.00404546]),\n",
       " 'rank_test_precision': array([1, 2], dtype=int32),\n",
       " 'split0_test_accuracy': array([0.96376002, 0.96364572]),\n",
       " 'split1_test_accuracy': array([0.96404554, 0.96403919]),\n",
       " 'split2_test_accuracy': array([0.96358198, 0.96365819]),\n",
       " 'mean_test_accuracy': array([0.96379585, 0.96378103]),\n",
       " 'std_test_accuracy': array([0.00019094, 0.00018262]),\n",
       " 'rank_test_accuracy': array([1, 2], dtype=int32)}"
      ]
     },
     "execution_count": 45,
     "metadata": {},
     "output_type": "execute_result"
    }
   ],
   "source": [
    "# -- RKS: max precision about ~0.51, f1 score in the basement (very low recall)\n",
    "# -- Without RKS + class weights: f1 score is ~ 0.337, precision .47 and recall .26\n",
    "benchmark_gcv.cv_results_"
   ]
  },
  {
   "cell_type": "code",
   "execution_count": 46,
   "metadata": {},
   "outputs": [
    {
     "data": {
      "image/png": "[encoded data removed]",
      "text/plain": [
       "<matplotlib.figure.Figure at 0x125f6b2b0>"
      ]
     },
     "metadata": {
      "needs_background": "light"
     },
     "output_type": "display_data"
    }
   ],
   "source": [
    "plt.figure(figsize = [12, 8])\n",
    "plt.title('LASSO benchmark CV performance',\n",
    "          fontsize = 16)\n",
    "\n",
    "plt.xlabel('Lasso penalty \"C\"')\n",
    "plt.ylabel('Score')\n",
    "range_C = benchmark_gcv.param_grid['lasso__C']\n",
    "\n",
    "ax = plt.gca()\n",
    "ax.set_xlim(min(range_C), max(range_C))\n",
    "# ax.set_ylim(0.73, 1)\n",
    "\n",
    "# Get the regular numpy array from the MaskedArray\n",
    "x_axis = np.array(range_C)\n",
    "\n",
    "metrics = list(benchmark_gcv.scorer_.keys())\n",
    "colors = np.random.choice(['b', 'g', 'r', 'c', 'm', 'y', 'k']\n",
    "                          , size = len(metrics)\n",
    "                          , replace = True)\n",
    "\n",
    "for metric, color in zip(metrics, colors):\n",
    "    sample_score_mean = benchmark_gcv.cv_results_['mean_test_{0}'.format(metric)]\n",
    "    sample_score_std = benchmark_gcv.cv_results_['std_test_{0}'.format(metric)]\n",
    "    ax.fill_between(x_axis\n",
    "                    , y1 = sample_score_mean - sample_score_std\n",
    "                    , y2 = sample_score_mean + sample_score_std\n",
    "                    , alpha=0.1\n",
    "                    , color=color)\n",
    "    ax.scatter(x_axis\n",
    "            , sample_score_mean\n",
    "            , color=color\n",
    "            , alpha=1\n",
    "            , label=metric)\n",
    "\n",
    "plt.xscale('log',basex=10) \n",
    "plt.legend(loc = 'best')\n",
    "plt.grid(False)\n",
    "plt.show()"
   ]
  },
  {
   "cell_type": "code",
   "execution_count": 47,
   "metadata": {},
   "outputs": [],
   "source": [
    "x_test = benchmark_feature_pipeline.transform(x_bench_df_test)\n",
    "test_preds = benchmark_gcv.best_estimator_.predict(x_test)\n",
    "test_pred_probs = benchmark_gcv.best_estimator_.predict_proba(x_test)[:, 1]\n",
    "# threshold = np.max(benchmark_gcv.cv_results_['mean_test_f1']) / 2\n",
    "threshold = 0.5\n",
    "test_preds = (test_pred_probs > threshold).astype(int)"
   ]
  },
  {
   "cell_type": "code",
   "execution_count": 48,
   "metadata": {},
   "outputs": [
    {
     "data": {
      "text/plain": [
       "array([[0.95536289, 0.01013479],\n",
       "       [0.02534968, 0.00915264]])"
      ]
     },
     "execution_count": 48,
     "metadata": {},
     "output_type": "execute_result"
    }
   ],
   "source": [
    "from sklearn.metrics import confusion_matrix\n",
    "# disp = plot_confusion_matrix(benchmark_gcv, x_test, y_test,\n",
    "#                                  display_labels=[0, 1],\n",
    "#                                  cmap=plt.cm.Blues,\n",
    "#                                  normalize='all')\n",
    "confusion_matrix(y_test\n",
    "                , y_pred=test_preds\n",
    "                , normalize='all')"
   ]
  },
  {
   "cell_type": "code",
   "execution_count": 50,
   "metadata": {},
   "outputs": [
    {
     "name": "stdout",
     "output_type": "stream",
     "text": [
      "0.4745390693590869 0.2652760736196319\n"
     ]
    }
   ],
   "source": [
    "test_tp = np.intersect1d(np.where(test_preds == 1), np.where(y_test == 1))\n",
    "test_precision = len(test_tp) / np.sum(test_preds)\n",
    "test_recall = len(test_tp) / np.sum(y_test)\n",
    "print(test_precision, test_recall)"
   ]
  },
  {
   "cell_type": "code",
   "execution_count": 94,
   "metadata": {},
   "outputs": [
    {
     "name": "stdout",
     "output_type": "stream",
     "text": [
      "Fitting 3 folds for each of 9 candidates, totalling 27 fits\n"
     ]
    },
    {
     "name": "stderr",
     "output_type": "stream",
     "text": [
      "[Parallel(n_jobs=2)]: Using backend LokyBackend with 2 concurrent workers.\n",
      "[Parallel(n_jobs=2)]: Done   1 tasks      | elapsed:    1.5s\n",
      "[Parallel(n_jobs=2)]: Done   4 tasks      | elapsed:    3.6s\n",
      "[Parallel(n_jobs=2)]: Done   9 tasks      | elapsed:   10.8s\n",
      "[Parallel(n_jobs=2)]: Done  14 tasks      | elapsed:   15.7s\n",
      "[Parallel(n_jobs=2)]: Done  21 tasks      | elapsed:   39.1s\n",
      "[Parallel(n_jobs=2)]: Done  27 out of  27 | elapsed:  3.3min remaining:    0.0s\n",
      "[Parallel(n_jobs=2)]: Done  27 out of  27 | elapsed:  3.3min finished\n"
     ]
    },
    {
     "data": {
      "text/plain": [
       "GridSearchCV(cv=3, error_score=nan,\n",
       "             estimator=ExtraTreesClassifier(bootstrap=False, ccp_alpha=0.0,\n",
       "                                            class_weight='balanced',\n",
       "                                            criterion='gini', max_depth=None,\n",
       "                                            max_features='auto',\n",
       "                                            max_leaf_nodes=None,\n",
       "                                            max_samples=None,\n",
       "                                            min_impurity_decrease=0.0,\n",
       "                                            min_impurity_split=None,\n",
       "                                            min_samples_leaf=1,\n",
       "                                            min_samples_split=2,\n",
       "                                            min_weight_fraction_leaf=0.0,\n",
       "                                            n_estimators=100, n_jobs=None,\n",
       "                                            oob_score=False, random_state=None,\n",
       "                                            verbose=0, warm_start=False),\n",
       "             iid='deprecated', n_jobs=2,\n",
       "             param_grid={'max_features': [7, 15, 249],\n",
       "                         'n_estimators': [20, 100, 200]},\n",
       "             pre_dispatch='2*n_jobs', refit='f1', return_train_score=False,\n",
       "             scoring=['f1', 'roc_auc', 'recall', 'precision', 'accuracy'],\n",
       "             verbose=10)"
      ]
     },
     "execution_count": 94,
     "metadata": {},
     "output_type": "execute_result"
    }
   ],
   "source": [
    "# x_train = feature_pipeline.fit_transform(x_df_train)\n",
    "p_train = x_train.shape[1]\n",
    "\n",
    "# -- fit benchmark model pipeline\n",
    "model = ExtraTreesClassifier(class_weight='balanced')\n",
    "#                             , bootstrap=True)\n",
    "\n",
    "# -- run benchmark model grid search, tallying F1 and ROC AUC along the way.\n",
    "# -- Since classes are so unbalanced, accuracy is not a really helpful scoring metric.\n",
    "gcv = GridSearchCV(model\n",
    "                             , param_grid=dict(max_features=[np.int(np.sqrt(p_train))\n",
    "                                                            , p_train]\n",
    "                                              , n_estimators=[20, 100, 200])\n",
    "                             , cv=3\n",
    "                             , n_jobs=2\n",
    "                             , scoring=['f1', 'roc_auc', 'recall', 'precision', 'accuracy']\n",
    "                             , refit = 'f1'\n",
    "                             , verbose=10)\n",
    "\n",
    "# -- run grid search job. Ensure that targets are integers (by rounding).\n",
    "gcv.fit(x_train[0:10000, :]\n",
    "        , y=y_train[0:10000])"
   ]
  },
  {
   "cell_type": "code",
   "execution_count": 95,
   "metadata": {},
   "outputs": [],
   "source": [
    "x_test = feature_pipeline.transform(x_df_test)\n",
    "test_preds = gcv.best_estimator_.predict(x_test)\n",
    "test_pred_probs = gcv.best_estimator_.predict_proba(x_test)[:, 1]\n",
    "threshold = 0.5\n",
    "test_preds = (test_pred_probs > threshold).astype(int)"
   ]
  },
  {
   "cell_type": "code",
   "execution_count": 96,
   "metadata": {},
   "outputs": [
    {
     "name": "stdout",
     "output_type": "stream",
     "text": [
      "0.7180232558139535 0.18184049079754602\n"
     ]
    }
   ],
   "source": [
    "test_tp = np.intersect1d(np.where(test_preds == 1), np.where(y_test == 1))\n",
    "test_precision = len(test_tp) / np.sum(test_preds)\n",
    "test_recall = len(test_tp) / np.sum(y_test)\n",
    "print(test_precision, test_recall)"
   ]
  },
  {
   "cell_type": "code",
   "execution_count": 113,
   "metadata": {},
   "outputs": [
    {
     "data": {
      "text/plain": [
       "[{'max_features': 7, 'n_estimators': 20},\n",
       " {'max_features': 7, 'n_estimators': 100},\n",
       " {'max_features': 7, 'n_estimators': 200},\n",
       " {'max_features': 15, 'n_estimators': 20},\n",
       " {'max_features': 15, 'n_estimators': 100},\n",
       " {'max_features': 15, 'n_estimators': 200},\n",
       " {'max_features': 249, 'n_estimators': 20},\n",
       " {'max_features': 249, 'n_estimators': 100},\n",
       " {'max_features': 249, 'n_estimators': 200}]"
      ]
     },
     "execution_count": 113,
     "metadata": {},
     "output_type": "execute_result"
    }
   ],
   "source": [
    "gcv.cv_results_.get('params')"
   ]
  },
  {
   "cell_type": "code",
   "execution_count": 136,
   "metadata": {},
   "outputs": [],
   "source": [
    "cv_df = pd.DataFrame(dict(mean_f1 = gcv.cv_results_.get('mean_test_f1')\n",
    "                          , mean_precision = gcv.cv_results_.get('mean_test_precision')\n",
    "                          , mean_recall = gcv.cv_results_.get('mean_test_recall')\n",
    "                          , mean_accuracy = gcv.cv_results_.get('mean_test_accuracy')))\n",
    "cv_df['params'] = [str(gcv.cv_results_.get('params')[i]) for i in range(cv_df.shape[0])]"
   ]
  },
  {
   "cell_type": "code",
   "execution_count": 179,
   "metadata": {},
   "outputs": [
    {
     "data": {
      "text/plain": [
       "['f1', 'roc_auc', 'recall', 'precision', 'accuracy']"
      ]
     },
     "execution_count": 179,
     "metadata": {},
     "output_type": "execute_result"
    }
   ],
   "source": [
    "gcv.scoring"
   ]
  },
  {
   "cell_type": "code",
   "execution_count": 137,
   "metadata": {},
   "outputs": [
    {
     "data": {
      "text/html": [
       "<div>\n",
       "<style scoped>\n",
       "    .dataframe tbody tr th:only-of-type {\n",
       "        vertical-align: middle;\n",
       "    }\n",
       "\n",
       "    .dataframe tbody tr th {\n",
       "        vertical-align: top;\n",
       "    }\n",
       "\n",
       "    .dataframe thead th {\n",
       "        text-align: right;\n",
       "    }\n",
       "</style>\n",
       "<table border=\"1\" class=\"dataframe\">\n",
       "  <thead>\n",
       "    <tr style=\"text-align: right;\">\n",
       "      <th></th>\n",
       "      <th>mean_accuracy</th>\n",
       "      <th>mean_f1</th>\n",
       "      <th>mean_precision</th>\n",
       "      <th>mean_recall</th>\n",
       "      <th>params</th>\n",
       "    </tr>\n",
       "  </thead>\n",
       "  <tbody>\n",
       "    <tr>\n",
       "      <th>0</th>\n",
       "      <td>0.9685</td>\n",
       "      <td>0.200113</td>\n",
       "      <td>0.868687</td>\n",
       "      <td>0.115142</td>\n",
       "      <td>{'max_features': 7, 'n_estimators': 20}</td>\n",
       "    </tr>\n",
       "    <tr>\n",
       "      <th>1</th>\n",
       "      <td>0.9678</td>\n",
       "      <td>0.168878</td>\n",
       "      <td>0.833333</td>\n",
       "      <td>0.095027</td>\n",
       "      <td>{'max_features': 7, 'n_estimators': 100}</td>\n",
       "    </tr>\n",
       "    <tr>\n",
       "      <th>2</th>\n",
       "      <td>0.9683</td>\n",
       "      <td>0.200477</td>\n",
       "      <td>0.815311</td>\n",
       "      <td>0.115192</td>\n",
       "      <td>{'max_features': 7, 'n_estimators': 200}</td>\n",
       "    </tr>\n",
       "    <tr>\n",
       "      <th>3</th>\n",
       "      <td>0.9678</td>\n",
       "      <td>0.188379</td>\n",
       "      <td>0.756667</td>\n",
       "      <td>0.109395</td>\n",
       "      <td>{'max_features': 15, 'n_estimators': 20}</td>\n",
       "    </tr>\n",
       "    <tr>\n",
       "      <th>4</th>\n",
       "      <td>0.9678</td>\n",
       "      <td>0.192954</td>\n",
       "      <td>0.747186</td>\n",
       "      <td>0.112269</td>\n",
       "      <td>{'max_features': 15, 'n_estimators': 100}</td>\n",
       "    </tr>\n",
       "    <tr>\n",
       "      <th>5</th>\n",
       "      <td>0.9685</td>\n",
       "      <td>0.213050</td>\n",
       "      <td>0.802020</td>\n",
       "      <td>0.123813</td>\n",
       "      <td>{'max_features': 15, 'n_estimators': 200}</td>\n",
       "    </tr>\n",
       "    <tr>\n",
       "      <th>6</th>\n",
       "      <td>0.9673</td>\n",
       "      <td>0.213894</td>\n",
       "      <td>0.630756</td>\n",
       "      <td>0.129535</td>\n",
       "      <td>{'max_features': 249, 'n_estimators': 20}</td>\n",
       "    </tr>\n",
       "    <tr>\n",
       "      <th>7</th>\n",
       "      <td>0.9677</td>\n",
       "      <td>0.220152</td>\n",
       "      <td>0.667360</td>\n",
       "      <td>0.132434</td>\n",
       "      <td>{'max_features': 249, 'n_estimators': 100}</td>\n",
       "    </tr>\n",
       "    <tr>\n",
       "      <th>8</th>\n",
       "      <td>0.9679</td>\n",
       "      <td>0.217375</td>\n",
       "      <td>0.698889</td>\n",
       "      <td>0.129560</td>\n",
       "      <td>{'max_features': 249, 'n_estimators': 200}</td>\n",
       "    </tr>\n",
       "  </tbody>\n",
       "</table>\n",
       "</div>"
      ],
      "text/plain": [
       "   mean_accuracy   mean_f1  mean_precision  mean_recall  \\\n",
       "0         0.9685  0.200113        0.868687     0.115142   \n",
       "1         0.9678  0.168878        0.833333     0.095027   \n",
       "2         0.9683  0.200477        0.815311     0.115192   \n",
       "3         0.9678  0.188379        0.756667     0.109395   \n",
       "4         0.9678  0.192954        0.747186     0.112269   \n",
       "5         0.9685  0.213050        0.802020     0.123813   \n",
       "6         0.9673  0.213894        0.630756     0.129535   \n",
       "7         0.9677  0.220152        0.667360     0.132434   \n",
       "8         0.9679  0.217375        0.698889     0.129560   \n",
       "\n",
       "                                       params  \n",
       "0     {'max_features': 7, 'n_estimators': 20}  \n",
       "1    {'max_features': 7, 'n_estimators': 100}  \n",
       "2    {'max_features': 7, 'n_estimators': 200}  \n",
       "3    {'max_features': 15, 'n_estimators': 20}  \n",
       "4   {'max_features': 15, 'n_estimators': 100}  \n",
       "5   {'max_features': 15, 'n_estimators': 200}  \n",
       "6   {'max_features': 249, 'n_estimators': 20}  \n",
       "7  {'max_features': 249, 'n_estimators': 100}  \n",
       "8  {'max_features': 249, 'n_estimators': 200}  "
      ]
     },
     "execution_count": 137,
     "metadata": {},
     "output_type": "execute_result"
    }
   ],
   "source": [
    "cv_df"
   ]
  },
  {
   "cell_type": "code",
   "execution_count": 175,
   "metadata": {},
   "outputs": [
    {
     "data": {
      "image/png": "[encoded data removed]",
      "text/plain": [
       "<matplotlib.figure.Figure at 0x291ec6278>"
      ]
     },
     "metadata": {
      "needs_background": "light"
     },
     "output_type": "display_data"
    }
   ],
   "source": [
    "plot_df = pd.melt(cv_df, id_vars=['params'], var_name = 'metric', value_name = 'y')\n",
    "\n",
    "\n",
    "fig, ax = plt.subplots(figsize=[14, 6])\n",
    "sns.catplot(x=\"params\", y=\"y\", hue=\"metric\", data=plot_df\n",
    "            ,height=6, kind=\"bar\", palette=\"muted\", ax=ax)\n",
    "ax.set_xticklabels(ax.get_xticklabels(), rotation=45)\n",
    "ax.set_title('Cross-validation performance')\n",
    "plt.close(2)"
   ]
  },
  {
   "cell_type": "code",
   "execution_count": 185,
   "metadata": {},
   "outputs": [],
   "source": [
    "?plot_precision_recall_curve"
   ]
  },
  {
   "cell_type": "code",
   "execution_count": 167,
   "metadata": {},
   "outputs": [
    {
     "data": {
      "text/plain": [
       "Text(0.5,1,'Precision-recall curve')"
      ]
     },
     "execution_count": 167,
     "metadata": {},
     "output_type": "execute_result"
    },
    {
     "data": {
      "image/png": "[encoded data removed]",
      "text/plain": [
       "<matplotlib.figure.Figure at 0x15612e588>"
      ]
     },
     "metadata": {
      "needs_background": "light"
     },
     "output_type": "display_data"
    }
   ],
   "source": [
    "from sklearn.metrics import plot_precision_recall_curve\n",
    "\n",
    "fig, ax = plt.subplots(figsize=[10, 6])\n",
    "plot_precision_recall_curve(gcv, x_test, y_test, ax=ax)\n",
    "ax.set_title('Precision-recall curve')"
   ]
  },
  {
   "cell_type": "code",
   "execution_count": 152,
   "metadata": {},
   "outputs": [
    {
     "data": {
      "image/png": "[encoded data removed]",
      "text/plain": [
       "<matplotlib.figure.Figure at 0x1550e11d0>"
      ]
     },
     "execution_count": 152,
     "metadata": {},
     "output_type": "execute_result"
    }
   ],
   "source": [
    "ax.figure.savefig('')"
   ]
  },
  {
   "cell_type": "markdown",
   "metadata": {},
   "source": [
    "## Extraneous EDA tasks\n",
    "\n",
    "- Has the rate of fraud changed over time?\n",
    "- Is there autocorrelation in the fraud rate?\n",
    "- Does correlation matrix change by class? (df.groupby([target]).corr())\n",
    "- LASSO path plot: which features last until the highest amounts of weight penalization?\n",
    "- Fit a benchmark model. Plot decision boundary along 1st, 2nd PC dimension. Do we seem to have a linearly-separable decision boundary?"
   ]
  },
  {
   "cell_type": "code",
   "execution_count": null,
   "metadata": {
    "collapsed": true
   },
   "outputs": [],
   "source": [
    "# -- are positive test cases more likely to have happened at certain time periods?\n",
    "plt.plot(tr_df['TransactionDT'], np.cumsum(tr_df[target]))\n",
    "plt.title(f'Cumulative {target} occurrences over time')\n",
    "\n",
    "plt.show()"
   ]
  },
  {
   "cell_type": "code",
   "execution_count": null,
   "metadata": {
    "collapsed": true
   },
   "outputs": [],
   "source": [
    "def conditional_dist(dat, y, x, nbins=100):\n",
    "    \"\"\"\n",
    "    Compute the (approximate) conditional distribution of a target variable\n",
    "    given a specified feature (a covariate), i.e. the distribution of Y|X_j\n",
    "    \n",
    "    1. Bin up the values of the feature using numpy.histogram.\n",
    "    2. Per bin, find the average of the target variable over all data samples in the bin.\n",
    "    \n",
    "    :param dat: pd.DataFrame\n",
    "    :param y: str name of target variable, i.e. Y\n",
    "    :param x: str name of a covariate in dat, i.e. X_j\n",
    "    :param nbins: int number of bins to use when computing the histogram of \n",
    "    :return: pd.DataFrame with two columns called `feature` and `y`. Shape `nbins` x 2.\n",
    "    \"\"\"\n",
    "    if nbins > dat.shape[0]: \n",
    "        raise ValueError('Number of bins cannot be > number of rows in dat.')\n",
    "        \n",
    "    # -- check that y is a valid column in dat\n",
    "    if not isinstance(y, str) or y not in dat.columns:\n",
    "        raise ValueError('y must be a string name of a column found in dat.')\n",
    "    \n",
    "    # -- check that x is a valid column in dat\n",
    "    if not isinstance(x, str) or x not in dat.columns:\n",
    "        raise ValueError('x must be a string name of a column found in dat.')\n",
    "\n",
    "    # -- bin up x (avoid computing partial dependence for each unique value of x)\n",
    "    hist = np.histogram(dat[x].values\n",
    "                        , bins=nbins)\n",
    "    bin_counts, bin_edges = hist[0], hist[1]\n",
    "    \n",
    "    # -- get center of histogram bins. This is where we'll compute PD.\n",
    "    edge_centers, y_avg = list(), list()\n",
    "    for i in range(nbins):\n",
    "        edge_centers.append((bin_edges[i] + bin_edges[i + 1]) / 2)\n",
    "        \n",
    "    for i in range(nbins):\n",
    "        # -- find average target value when feature is in given bin.\n",
    "        y_avg.append(dat[(dat[x] >= bin_edges[i]) & (dat[x] < bin_edges[i + 1])][target].mean())\n",
    "        \n",
    "    # -- store conditional dist in a pandas DataFrame\n",
    "    cond_df = pd.DataFrame([edge_centers, y_avg]).T\n",
    "    cond_df.columns = [x, y]\n",
    "    \n",
    "    return cond_df"
   ]
  },
  {
   "cell_type": "code",
   "execution_count": null,
   "metadata": {
    "collapsed": true
   },
   "outputs": [],
   "source": [
    "# -- plot exponentially weighted moving average of target over time.\n",
    "fraud_over_time_df = conditional_dist(tr_df\n",
    "                                      , y=target\n",
    "                                      , x='TransactionDT'\n",
    "                                      , nbins=250)\n",
    "fraud_over_time_df[target] = fraud_over_time_df[target].ewm(com=0.4).mean()\n",
    "\n",
    "fig, ax = plt.subplots(figsize=[10, 6])\n",
    "sns.lineplot(x='TransactionDT'\n",
    "             , y=target\n",
    "             , data=fraud_over_time_df\n",
    "             , ax=ax)\n",
    "ax.set_title('EWMA of fraud rate over time')\n",
    "\n",
    "plt.show()"
   ]
  },
  {
   "cell_type": "code",
   "execution_count": null,
   "metadata": {
    "collapsed": true
   },
   "outputs": [],
   "source": [
    "# -- we've found autocorrelation in terms of the fraud rate over time\n",
    "# -- (i.e. if there was a lot of fraud last month, there's likely to be a lot of\n",
    "# -- fraud next month).\n",
    "fig, ax = plt.subplots(figsize=[10, 6])\n",
    "pd.plotting.autocorrelation_plot(fraud_over_time_df[target]\n",
    "                                , ax=ax)\n",
    "ax.set_title(f'{target} autocorrelation')"
   ]
  },
  {
   "cell_type": "code",
   "execution_count": null,
   "metadata": {
    "collapsed": true
   },
   "outputs": [],
   "source": [
    "# -- plot distribution of target given some other feature\n",
    "fraud_given_amt = conditional_dist(tr_df, y=target, x='TransactionAmt', nbins=100).dropna()\n",
    "fig, ax = plt.subplots(figsize=[10, 6])\n",
    "sns.lineplot(x='TransactionAmt'\n",
    "             , y=target\n",
    "             , data=fraud_given_amt\n",
    "             , ax=ax)\n",
    "ax.set_title(f'{target} given TransactionAmt')\n",
    "\n",
    "plt.show()"
   ]
  },
  {
   "cell_type": "code",
   "execution_count": null,
   "metadata": {
    "collapsed": true
   },
   "outputs": [],
   "source": []
  },
  {
   "cell_type": "code",
   "execution_count": null,
   "metadata": {
    "collapsed": true
   },
   "outputs": [],
   "source": []
  },
  {
   "cell_type": "code",
   "execution_count": null,
   "metadata": {
    "collapsed": true
   },
   "outputs": [],
   "source": []
  },
  {
   "cell_type": "code",
   "execution_count": null,
   "metadata": {
    "collapsed": true
   },
   "outputs": [],
   "source": []
  },
  {
   "cell_type": "code",
   "execution_count": null,
   "metadata": {
    "collapsed": true
   },
   "outputs": [],
   "source": []
  },
  {
   "cell_type": "code",
   "execution_count": null,
   "metadata": {
    "collapsed": true
   },
   "outputs": [],
   "source": []
  },
  {
   "cell_type": "code",
   "execution_count": null,
   "metadata": {
    "collapsed": true
   },
   "outputs": [],
   "source": []
  },
  {
   "cell_type": "code",
   "execution_count": null,
   "metadata": {
    "collapsed": true
   },
   "outputs": [],
   "source": []
  },
  {
   "cell_type": "code",
   "execution_count": null,
   "metadata": {
    "collapsed": true
   },
   "outputs": [],
   "source": []
  },
  {
   "cell_type": "code",
   "execution_count": 187,
   "metadata": {},
   "outputs": [
    {
     "name": "stdout",
     "output_type": "stream",
     "text": [
      "hello\n"
     ]
    },
    {
     "data": {
      "text/plain": [
       "10"
      ]
     },
     "execution_count": 187,
     "metadata": {},
     "output_type": "execute_result"
    }
   ],
   "source": [
    "print('hello')\n",
    "5 + 5"
   ]
  },
  {
   "cell_type": "code",
   "execution_count": null,
   "metadata": {
    "collapsed": true
   },
   "outputs": [],
   "source": []
  }
 ],
 "metadata": {
  "kernelspec": {
   "display_name": "Python 3",
   "language": "python",
   "name": "python3"
  },
  "language_info": {
   "codemirror_mode": {
    "name": "ipython",
    "version": 3
   },
   "file_extension": ".py",
   "mimetype": "text/x-python",
   "name": "python",
   "nbconvert_exporter": "python",
   "pygments_lexer": "ipython3",
   "version": "3.6.3"
  }
 },
 "nbformat": 4,
 "nbformat_minor": 2
}
